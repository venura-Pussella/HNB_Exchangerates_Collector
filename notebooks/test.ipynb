{
 "cells": [
  {
   "cell_type": "markdown",
   "metadata": {},
   "source": [
    "# Exchange Rate Scraper"
   ]
  },
  {
   "cell_type": "code",
   "execution_count": 1,
   "metadata": {},
   "outputs": [],
   "source": [
    "import os\n",
    "import requests\n",
    "from bs4 import BeautifulSoup\n",
    "import csv\n",
    "from datetime import datetime"
   ]
  },
  {
   "cell_type": "code",
   "execution_count": 2,
   "metadata": {},
   "outputs": [
    {
     "ename": "AttributeError",
     "evalue": "'NoneType' object has no attribute 'find_all'",
     "output_type": "error",
     "traceback": [
      "\u001b[1;31m---------------------------------------------------------------------------\u001b[0m",
      "\u001b[1;31mAttributeError\u001b[0m                            Traceback (most recent call last)",
      "Cell \u001b[1;32mIn[2], line 50\u001b[0m\n\u001b[0;32m     47\u001b[0m     df\u001b[38;5;241m.\u001b[39mto_csv(file_path, index\u001b[38;5;241m=\u001b[39m\u001b[38;5;28;01mFalse\u001b[39;00m)\n\u001b[0;32m     49\u001b[0m \u001b[38;5;66;03m# Call the function to scrape and save exchange rates\u001b[39;00m\n\u001b[1;32m---> 50\u001b[0m \u001b[43mscrape_hnb_exchange_rates\u001b[49m\u001b[43m(\u001b[49m\u001b[43m)\u001b[49m\n",
      "Cell \u001b[1;32mIn[2], line 21\u001b[0m, in \u001b[0;36mscrape_hnb_exchange_rates\u001b[1;34m()\u001b[0m\n\u001b[0;32m     18\u001b[0m table \u001b[38;5;241m=\u001b[39m soup\u001b[38;5;241m.\u001b[39mfind(\u001b[38;5;124m'\u001b[39m\u001b[38;5;124mtable\u001b[39m\u001b[38;5;124m'\u001b[39m, {\u001b[38;5;124m'\u001b[39m\u001b[38;5;124mclass\u001b[39m\u001b[38;5;124m'\u001b[39m: \u001b[38;5;124m'\u001b[39m\u001b[38;5;124mtable-class\u001b[39m\u001b[38;5;124m'\u001b[39m})  \u001b[38;5;66;03m# Replace 'table-class' with the actual class or id\u001b[39;00m\n\u001b[0;32m     20\u001b[0m \u001b[38;5;66;03m# Extract table headers and rows\u001b[39;00m\n\u001b[1;32m---> 21\u001b[0m headers \u001b[38;5;241m=\u001b[39m [header\u001b[38;5;241m.\u001b[39mtext \u001b[38;5;28;01mfor\u001b[39;00m header \u001b[38;5;129;01min\u001b[39;00m \u001b[43mtable\u001b[49m\u001b[38;5;241;43m.\u001b[39;49m\u001b[43mfind_all\u001b[49m(\u001b[38;5;124m'\u001b[39m\u001b[38;5;124mth\u001b[39m\u001b[38;5;124m'\u001b[39m)]\n\u001b[0;32m     22\u001b[0m rows \u001b[38;5;241m=\u001b[39m table\u001b[38;5;241m.\u001b[39mfind_all(\u001b[38;5;124m'\u001b[39m\u001b[38;5;124mtr\u001b[39m\u001b[38;5;124m'\u001b[39m)[\u001b[38;5;241m1\u001b[39m:]  \u001b[38;5;66;03m# Skip the header row\u001b[39;00m\n\u001b[0;32m     24\u001b[0m \u001b[38;5;66;03m# Extract data\u001b[39;00m\n",
      "\u001b[1;31mAttributeError\u001b[0m: 'NoneType' object has no attribute 'find_all'"
     ]
    }
   ],
   "source": [
    "import pandas as pd\n",
    "from datetime import datetime\n",
    "import requests\n",
    "from bs4 import BeautifulSoup\n",
    "\n",
    "def scrape_hnb_exchange_rates():\n",
    "    # URL of the HNB exchange rates page\n",
    "    url = \"https://www.hnb.net/exchange-rates\"\n",
    "\n",
    "    # Send a request to the website\n",
    "    response = requests.get(url)\n",
    "    response.raise_for_status()  # Check if the request was successful\n",
    "\n",
    "    # Parse the HTML content\n",
    "    soup = BeautifulSoup(response.content, 'html.parser')\n",
    "\n",
    "    # Find the table with exchange rates (assuming the table structure from the example)\n",
    "    table = soup.find('table', {'class': 'table-class'})  # Replace 'table-class' with the actual class or id\n",
    "\n",
    "    # Extract table headers and rows\n",
    "    headers = [header.text for header in table.find_all('th')]\n",
    "    rows = table.find_all('tr')[1:]  # Skip the header row\n",
    "\n",
    "    # Extract data\n",
    "    data = []\n",
    "    for row in rows:\n",
    "        cols = row.find_all('td')\n",
    "        data.append([col.text.strip() for col in cols])\n",
    "\n",
    "    # Create a DataFrame\n",
    "    df = pd.DataFrame(data, columns=headers)\n",
    "\n",
    "    # Add the current date\n",
    "    df['Date'] = datetime.now().strftime('%Y-%m-%d')\n",
    "\n",
    "    # Define the CSV file path\n",
    "    file_path = \"src/data/csv/hnb_exchange_rates.csv\"\n",
    "\n",
    "    # Append data to the CSV file\n",
    "    try:\n",
    "        existing_df = pd.read_csv(file_path)\n",
    "        df = pd.concat([existing_df, df], ignore_index=True)\n",
    "    except FileNotFoundError:\n",
    "        pass\n",
    "\n",
    "    # Save to CSV\n",
    "    df.to_csv(file_path, index=False)\n",
    "\n",
    "# Call the function to scrape and save exchange rates\n",
    "scrape_hnb_exchange_rates()\n"
   ]
  }
 ],
 "metadata": {
  "kernelspec": {
   "display_name": "exchange",
   "language": "python",
   "name": "python3"
  },
  "language_info": {
   "codemirror_mode": {
    "name": "ipython",
    "version": 3
   },
   "file_extension": ".py",
   "mimetype": "text/x-python",
   "name": "python",
   "nbconvert_exporter": "python",
   "pygments_lexer": "ipython3",
   "version": "3.8.19"
  }
 },
 "nbformat": 4,
 "nbformat_minor": 2
}
